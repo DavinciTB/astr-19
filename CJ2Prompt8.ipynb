{
 "cells": [
  {
   "cell_type": "code",
   "execution_count": null,
   "id": "8f621bce-57c3-444e-a628-f096aba35467",
   "metadata": {},
   "outputs": [],
   "source": [
    "import numpy as np\n",
    "import matplotlib.pyplot as plt\n",
    "\n",
    "mean = 0\n",
    "std_dev = 1\n",
    "random_numbers = np.random.normal(loc=mean, scale=std_dev, size=1000)\n",
    "\n",
    "\n",
    "plt.hist(random_numbers, bins=100, edgecolor='black', alpha=0.7)\n",
    "\n",
    "\n",
    "plt.xlabel(\"Value\")\n",
    "plt.ylabel(\"Frequency\")\n",
    "plt.title(\"Histogram of Normal Distribution Random Variates\")\n",
    "\n",
    "\n",
    "plt.savefig(\"normal_distribution_histogram.pdf\")\n",
    "\n",
    "\n",
    "plt.show()"
   ]
  }
 ],
 "metadata": {
  "kernelspec": {
   "display_name": "Python 3 (ipykernel)",
   "language": "python",
   "name": "python3"
  },
  "language_info": {
   "codemirror_mode": {
    "name": "ipython",
    "version": 3
   },
   "file_extension": ".py",
   "mimetype": "text/x-python",
   "name": "python",
   "nbconvert_exporter": "python",
   "pygments_lexer": "ipython3",
   "version": "3.13.7"
  }
 },
 "nbformat": 4,
 "nbformat_minor": 5
}
