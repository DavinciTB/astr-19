{
 "cells": [
  {
   "cell_type": "code",
   "execution_count": 1,
   "id": "a98f5371-205c-4e52-be88-9fd9ae0421cf",
   "metadata": {},
   "outputs": [
    {
     "name": "stdout",
     "output_type": "stream",
     "text": [
      "Tabulation complete. The x_values, sin_values, and cos_values are now available.\n",
      "x          | sin(x)       | cos(x)      \n",
      "---------------------------------------\n",
      "0.000000   | 0.000000     | 1.000000    \n",
      "0.002002   | 0.002002     | 0.999998    \n",
      "0.004004   | 0.004004     | 0.999992    \n",
      "0.006006   | 0.006006     | 0.999982    \n",
      "0.008008   | 0.008008     | 0.999968    \n",
      "0.010010   | 0.010010     | 0.999950    \n",
      "0.012012   | 0.012012     | 0.999928    \n",
      "0.014014   | 0.014014     | 0.999902    \n",
      "0.016016   | 0.016015     | 0.999872    \n",
      "0.018018   | 0.018017     | 0.999838    \n"
     ]
    }
   ],
   "source": [
    "import math\n",
    "\n",
    "def calculate_sin(x):\n",
    "    \"\"\"\n",
    "    This function takes a numeric value x as input and returns its sine.\n",
    "    The input value is treated as radians.\n",
    "    \"\"\"\n",
    "    return math.sin(x)\n",
    "import math\n",
    "\n",
    "def calculate_cos(x):\n",
    "    \"\"\"\n",
    "    This function takes a numeric value x as input and returns its cosine.\n",
    "    The input value is treated as radians.\n",
    "    \"\"\"\n",
    "    return math.cos(x)\n",
    "import numpy as np\n",
    "\n",
    "# Create a numpy array for x values from 0 to 2 with 1000 entries\n",
    "x_values = np.linspace(0, 2, 1000)\n",
    "\n",
    "# Calculate the sine and cosine values using the defined functions\n",
    "sin_values = [calculate_sin(x) for x in x_values]\n",
    "cos_values = [calculate_cos(x) for x in x_values]\n",
    "\n",
    "# You can now use the x_values, sin_values, and cos_values arrays for further analysis or plotting.\n",
    "# For example, printing the first few entries to verify.\n",
    "print(\"Tabulation complete. The x_values, sin_values, and cos_values are now available.\")\n",
    "# Print headers for the columns\n",
    "print(f\"{'x':<10} | {'sin(x)':<12} | {'cos(x)':<12}\")\n",
    "print(\"-\" * 39)\n",
    "\n",
    "# Use a for loop to print the first 10 values\n",
    "for i in range(10):\n",
    "    x = x_values[i]\n",
    "    sin_x = sin_values[i]\n",
    "    cos_x = cos_values[i]\n",
    "    print(f\"{x:<10.6f} | {sin_x:<12.6f} | {cos_x:<12.6f}\")\n"
   ]
  }
 ],
 "metadata": {
  "kernelspec": {
   "display_name": "Python 3 (ipykernel)",
   "language": "python",
   "name": "python3"
  },
  "language_info": {
   "codemirror_mode": {
    "name": "ipython",
    "version": 3
   },
   "file_extension": ".py",
   "mimetype": "text/x-python",
   "name": "python",
   "nbconvert_exporter": "python",
   "pygments_lexer": "ipython3",
   "version": "3.13.7"
  }
 },
 "nbformat": 4,
 "nbformat_minor": 5
}
